{
 "metadata": {
  "name": ""
 },
 "nbformat": 3,
 "nbformat_minor": 0,
 "worksheets": [
  {
   "cells": [
    {
     "cell_type": "code",
     "collapsed": false,
     "input": [
      "from scipy import *\n",
      "from pylab import *\n",
      "from pandas import *\n",
      "%matplotlib inline\n",
      "matplotlib.rcParams['figure.figsize'] = [14,18]"
     ],
     "language": "python",
     "metadata": {},
     "outputs": [],
     "prompt_number": 3
    },
    {
     "cell_type": "code",
     "collapsed": false,
     "input": [
      "import os\n",
      "dir = os.path.expanduser(\"~/projects/underemployment/data\")\n",
      "# Create download data directory\n",
      "try:\n",
      "    os.makedirs(dir)\n",
      "except OSError:\n",
      "    pass\n",
      "os.chdir(dir)\n",
      "print \"Current directory is\", os.getcwd()"
     ],
     "language": "python",
     "metadata": {},
     "outputs": [
      {
       "output_type": "stream",
       "stream": "stdout",
       "text": [
        "Current directory is /Users/rsargent/projects/underemployment/data\n"
       ]
      }
     ],
     "prompt_number": 4
    },
    {
     "cell_type": "code",
     "collapsed": false,
     "input": [
      "import urllib2\n",
      "def fetch_url(url, dest):\n",
      "    \"\"\"Fetch url to dest, if dest doesn't already exist\"\"\"\n",
      "    if os.path.exists(dest):\n",
      "        print \"%s already exists\" % dest\n",
      "    else:\n",
      "        print \"Fetching %s to %s\" % (url, dest)\n",
      "        input = urllib2.urlopen(url)\n",
      "        output = open(dest + \".tmp\", \"w\")\n",
      "        data = input.read()\n",
      "        output.write(data)\n",
      "        input.close()\n",
      "        output.close()\n",
      "        os.rename(dest + \".tmp\", dest)\n",
      "        print \"Fetched %d bytes from %s into %s\" % (len(data), url, dest)"
     ],
     "language": "python",
     "metadata": {},
     "outputs": [],
     "prompt_number": 5
    },
    {
     "cell_type": "code",
     "collapsed": false,
     "input": [
      "# Parse excel spreadsheets\n",
      "import re\n",
      "import xlrd\n",
      "\n",
      "class RC:\n",
      "    \"\"\"Row, Col index\"\"\"\n",
      "    def __init__(self, r, c):\n",
      "        self.r = r\n",
      "        self.c = c\n",
      "        \n",
      "    def add(self, r, c):\n",
      "        return RC(self.r + r, self.c + c)\n",
      "    \n",
      "    def up(self, n = 1):\n",
      "        return self.add(-n, 0)\n",
      "        \n",
      "    def down(self, n = 1):\n",
      "        return self.add(n, 0)\n",
      "    \n",
      "    def left(self, n = 1):\n",
      "        return self.add(0, -n)\n",
      "    \n",
      "    def right(self, n = 1):\n",
      "        return self.add(0, n)\n",
      "    \n",
      "    def start_of_row(self):\n",
      "        return RC(0, self.c)\n",
      "    \n",
      "    def start_of_col(self):\n",
      "        return RC(self.r, 0)\n",
      "    \n",
      "    def cell_value(self, sheet):\n",
      "        return sheet.cell_value(self.r, self.c)\n",
      "    \n",
      "    def __repr__(self):\n",
      "        return xlrd.cellname(self.r, self.c)\n",
      "    \n",
      "class RCRange:\n",
      "    \"\"\"Rectangular range.  min and max are both inclusive\"\"\"\n",
      "    def __init__(self, min, max):\n",
      "        self.min = min\n",
      "        self.max = max\n",
      "\n",
      "    @staticmethod\n",
      "    def all():\n",
      "        return RCRange(RC(0,0), RC(sys.maxint, sys.maxint))\n",
      "    \n",
      "    @staticmethod\n",
      "    def starting_at(min):\n",
      "        return RCRange(min, RC(sys.maxint, sys.maxint))\n",
      "    \n",
      "    def enumerate(self, sheet):\n",
      "        for r in range(self.min.r, min(self.max.r, sheet.nrows - 1) + 1):\n",
      "            for c in range(self.min.c, min(self.max.c, sheet.ncols - 1) + 1):\n",
      "                yield RC(r,c)\n",
      "                \n",
      "    def cell_values(self, sheet):\n",
      "        return [rc.cell_value(sheet) for rc in self.enumerate(sheet)]\n",
      "                \n",
      "    def __repr__(self):\n",
      "        return \"RCRange(%s-%s)\" % (repr(self.min), repr(self.max))\n",
      "\n",
      "def find_first(sheet, pattern, range=RCRange.all()):\n",
      "    \"\"\"Search sheet range for cell text matching pattern.  Return first found, or raise error\"\"\"\n",
      "    locations = [rc for rc in range.enumerate(sheet)  if re.match(pattern, unicode(sheet.cell_value(rc.r,rc.c)))]\n",
      "    if len(locations) == 0:\n",
      "        raise Exception(\"In find_first, failed to find %s\" % pattern)\n",
      "    location = locations[0]\n",
      "    # print \"%s: found %s\" % (location, pattern)\n",
      "    return location"
     ],
     "language": "python",
     "metadata": {},
     "outputs": [],
     "prompt_number": 6
    },
    {
     "cell_type": "code",
     "collapsed": false,
     "input": [
      "from scipy.integrate import quad\n",
      "from scipy import interpolate\n",
      "\n",
      "def parse_irs_number(x):\n",
      "    if isinstance(x, (int, long, float)):\n",
      "        return x\n",
      "    # Remove *'s and ,'s\n",
      "    x = x.replace(\"*\",\"\").replace(\",\",\"\")\n",
      "    if x == \"\":\n",
      "        return nan\n",
      "    else:\n",
      "        return float(x)\n",
      "\n",
      "def fetch_number_of_returns_vs_agi(sheet, category):\n",
      "    counts_header = find_first(sheet, category).down()\n",
      "    #if not re.match(\"Number\\sof\\sreturns\", counts_header.cell_value(sheet)):\n",
      "    #    raise \"Couldn't find expected column\"\n",
      "    first_bin = find_first(sheet, \"All returns, total\", RCRange.starting_at(RC(counts_header.r, 0))).down()\n",
      "    last_bin = find_first(sheet, \"Taxable returns, total\", RCRange.starting_at(RC(counts_header.r, 0))).up()\n",
      "    bins = RCRange(first_bin, last_bin)\n",
      "    counts_location = RCRange(RC(bins.min.r, counts_header.c), RC(bins.max.r, counts_header.c))\n",
      "    counts = [parse_irs_number(v) for v in counts_location.cell_values(sheet)]\n",
      "    agis_header = counts_header.right()\n",
      "    #if not re.match(\"Adjusted\\sgross\\sincome\", agis_header.cell_value(sheet)):\n",
      "    #    raise \"Couldn't find expected column\"\n",
      "    agis_location = RCRange(RC(bins.min.r, agis_header.c), RC(bins.max.r, agis_header.c))\n",
      "    agis = [1000*parse_irs_number(x) for x in agis_location.cell_values(sheet)]\n",
      "    thresholds = map(lambda x: float(([\"0\"] + re.findall('[\\d,]+', x))[-1].replace(',', '')), bins.cell_values(sheet))\n",
      "    thresholds[-1] = nan\n",
      "    # Remove zeros from series, moving higher AGI threshold downwards\n",
      "    counts = [nan if count == 0 else count for count in counts]\n",
      "    while nan in counts:\n",
      "        del thresholds[counts.index(nan) - 1]\n",
      "        del agis[counts.index(nan)]\n",
      "        del counts[counts.index(nan)]\n",
      "    print \"%s: AGI thresholds %s, # of returns %s, total amount %s\" % (category, bins, counts_location, agis_location)\n",
      "    return DataFrame({'agi_thresholds': thresholds, 'counts': counts, 'agi_totals': agis})\n",
      "\n",
      "def estimate_top_agi_threshold(df):\n",
      "    # Model top bin as transitioning linearly to some max AGI.  Select max AGI such that\n",
      "    # total integrated AGI matches that given\n",
      "    df = df.copy()\n",
      "    agi_totals = df['agi_totals'].ix\n",
      "    agi_thresholds = df['agi_thresholds'].ix\n",
      "    counts = df['counts'].ix\n",
      "    size = len(df.index)\n",
      "    average_agi_top_bin = agi_totals[size - 1] / counts[size - 1]\n",
      "    if average_agi_top_bin <= agi_thresholds[size - 2]:\n",
      "        raise \"The average AGI in the top bin ought to be higher than the next to last threshold\"\n",
      "    agi_thresholds[size - 1] = average_agi_top_bin * 2 - agi_thresholds[size - 2]\n",
      "    return df\n",
      "\n",
      "def estimate_separate_from_joint(df):\n",
      "    # Estimate how joint returns would look if filed separately, by assuming each\n",
      "    # spouse has identical incomes.  This isn't a very good estimate, and will\n",
      "    # underestimate income divergences between high and low percentiles.\n",
      "    df = df.copy()\n",
      "    df['agi_thresholds'] *= 0.5\n",
      "    df['counts'] *= 2\n",
      "    return df\n",
      "\n",
      "def population_vs_agi(df):\n",
      "    # Expand range of interpolation to $0 to $1B by adding samples at beginning and end\n",
      "    # Actually, start at $-1e-10 because of a rounding problem in interp1d, apparently\n",
      "    return interpolate.interp1d(append([-1e-10], append(df['agi_thresholds'], [1e9])), \n",
      "                                cumsum(append([0], append(df['counts'], [0]))))\n",
      "\n",
      "report_urls = {\n",
      "                2011: \"http://www.irs.gov/file_source/pub/irs-soi/11in12ms.xls\",\n",
      "                2010: \"http://www.irs.gov/file_source/PUP/taxstats/indtaxstats/10in12ms.xls\",\n",
      "                2009: \"http://www.irs.gov/file_source/pub/irs-soi/09in12ms.xls\",\n",
      "                2008: \"http://www.irs.gov/file_source/pub/irs-soi/08in12ms.xls\",\n",
      "                2007: \"http://www.irs.gov/file_source/pub/irs-soi/07in12ms.xls\",\n",
      "                2006: \"http://www.irs.gov/file_source/pub/irs-soi/06in12ms.xls\",\n",
      "                2005: \"http://www.irs.gov/file_source/pub/irs-soi/05in12ms.xls\",\n",
      "                2004: \"http://www.irs.gov/file_source/pub/irs-soi/04in12ms.xls\",\n",
      "                2003: \"http://www.irs.gov/file_source/pub/irs-soi/03in12ms.xls\",\n",
      "                2002: \"http://www.irs.gov/file_source/pub/irs-soi/02in12ms.xls\",\n",
      "                2001: \"http://www.irs.gov/file_source/pub/irs-soi/01in12ms.xls\",\n",
      "                2000: \"http://www.irs.gov/file_source/pub/irs-soi/00in12ar.xls\",\n",
      "                1999: \"http://www.irs.gov/file_source/pub/irs-soi/99in12ar.xls\",\n",
      "                1998: \"http://www.irs.gov/file_source/pub/irs-soi/98in12ar.xls\",\n",
      "                1997: \"http://www.irs.gov/file_source/pub/irs-soi/97in12.xls\",\n",
      "                1996: \"http://www.irs.gov/file_source/pub/irs-soi/96in12ar.xls\",\n",
      "                1995: \"1995-in-1.2.xlsx\",\n",
      "                1994: \"1994-in-1.2.xlsx\",\n",
      "                1993: \"1993-in-1.2.xlsx\",\n",
      "                1992: \"1992-in-1.2.xlsx\",\n",
      "                1991: \"1991-in-1.2.xlsx\",\n",
      "                1990: \"1990-in-1.2.xlsx\",\n",
      "              }\n",
      "\n",
      "# Inflation, from CPI, http://data.bls.gov/cgi-bin/cpicalc.pl\n",
      "# TODO: use BLS API to fetch this\n",
      "dollars_2011 = { \n",
      "                 1990: 1.7210,\n",
      "                 1991: 1.6515,\n",
      "                 1992: 1.6033,\n",
      "                 1993: 1.5567,\n",
      "                 1994: 1.5178,\n",
      "                 1995: 1.4760,\n",
      "                 1996: 1.4336,\n",
      "                 1997: 1.4015,\n",
      "                 1998: 1.3800,\n",
      "                 1999: 1.3502,\n",
      "                 2000: 1.3063,\n",
      "                 2001: 1.2701,\n",
      "                 2002: 1.2504,\n",
      "                 2003: 1.2225,\n",
      "                 2004: 1.1908,\n",
      "                 2005: 1.1518,\n",
      "                 2006: 1.1158,\n",
      "                 2007: 1.0849,\n",
      "                 2008: 1.0448,\n",
      "                 2009: 1.0485,\n",
      "                 2010: 1.0316,\n",
      "                 2011: 1,\n",
      "               }\n",
      "\n",
      "# From http://www.census.gov/popest/data/national/totals/2013/index.html\n",
      "# and http://www.census.gov/popest/data/state/totals/2009/tables/NST-EST2009-01.csv\n",
      "# 1990-1999: National Intercensal Estimates 1990-2000, US Resident plus Armed Forces Overseas\n",
      "#    http://www.census.gov/popest/data/intercensal/national/files/US-EST90INT-08.csv (using July 1)\n",
      "#    from page http://www.census.gov/popest/data/historical/1990s/index.html\n",
      "population = {\n",
      "               1990: 250131894,\n",
      "               1991: 253492503,\n",
      "               1992: 256894189,\n",
      "               1993: 260255352,\n",
      "               1994: 263435673,\n",
      "               1995: 266557091,\n",
      "               1996: 269667391,\n",
      "               1997: 272911760,\n",
      "               1998: 276115288,\n",
      "               1999: 279294713,\n",
      "               2000: 282171957,\n",
      "               2001: 285081556,\n",
      "               2002: 287803914,\n",
      "               2003: 290326418,\n",
      "               2004: 293045739,\n",
      "               2005: 295753151,\n",
      "               2006: 298593212,\n",
      "               2007: 301579895,\n",
      "               2008: 304374846,\n",
      "               2009: 307006550,\n",
      "               2010: 309326295,\n",
      "               2011: 311582564,\n",
      "               2012: 313873685,\n",
      "               2013: 316128839\n",
      "             }\n",
      "\n",
      "def compute_tax_year(year):\n",
      "    url = report_urls[year]\n",
      "    local = os.path.basename(url)\n",
      "    fetch_url(url, local)\n",
      "    sheet = xlrd.open_workbook(local).sheet_by_index(0)\n",
      "    # \n",
      "    yearv1 = {\n",
      "              'married_joint':    fetch_number_of_returns_vs_agi(sheet, 'Returns of married persons filing jointly'),\n",
      "              'single':           fetch_number_of_returns_vs_agi(sheet, 'Returns of single persons')\n",
      "              }\n",
      "    \n",
      "    try:\n",
      "        yearv1['married_separate|head_household|surviving_spouse'] = fetch_number_of_returns_vs_agi(sheet, 'Returns of married persons filing separately, heads of households, and surviving spouses')\n",
      "    except:\n",
      "        # 2003-2011 split into 3 separate categories\n",
      "        yearv1['married_separate'] = fetch_number_of_returns_vs_agi(sheet, 'Returns of married persons filing separately')\n",
      "        yearv1['head_household'] = fetch_number_of_returns_vs_agi(sheet, 'Returns of head(|s) of households')\n",
      "        yearv1['surviving_spouse'] = fetch_number_of_returns_vs_agi(sheet, 'Returns of surviving spouses')\n",
      "\n",
      "    yearv2 = {category: estimate_top_agi_threshold(returns) for (category, returns) in yearv1.iteritems()}\n",
      "\n",
      "    yearv3 = {category: estimate_separate_from_joint(returns) if category == 'married_joint' else returns\n",
      "              for (category, returns) in yearv2.iteritems()}\n",
      "    \n",
      "    pop_vs_agi_categories = [population_vs_agi(returns) for returns in yearv3.values()]\n",
      "    pop_vs_agi_all = lambda x: sum([fn(x) for fn in pop_vs_agi_categories])\n",
      "\n",
      "    agi_thresholds = []\n",
      "    for returns in yearv3.values():\n",
      "        agi_thresholds += list(returns['agi_thresholds'])\n",
      "    agi_thresholds = sort(list(set(agi_thresholds)))\n",
      "\n",
      "    pop_at_agi_thresholds = append([0], map(pop_vs_agi_all, agi_thresholds))\n",
      "    agi_thresholds = append([0], agi_thresholds)\n",
      "    \n",
      "    # Adjust for total population by filling in zero income for everyone who didn't file a return\n",
      "    population_not_filing = population[year] - pop_at_agi_thresholds[-1]\n",
      "\n",
      "    pop_at_agi_thresholds = append([0], [pop + population_not_filing for pop in pop_at_agi_thresholds])\n",
      "    agi_thresholds = append([0], agi_thresholds)\n",
      "\n",
      "    nbins = 20\n",
      "    agis = []\n",
      "    total_pop = pop_at_agi_thresholds[-1]\n",
      "    for i in range(0, nbins):\n",
      "        min_pop = total_pop * float(i) / nbins\n",
      "        max_pop = total_pop * float(i + 1) / nbins\n",
      "        agi = 0\n",
      "        for i in range(0, len(pop_at_agi_thresholds) - 1):\n",
      "            agi += quad(interpolate.interp1d(pop_at_agi_thresholds, agi_thresholds),\n",
      "                        min(max_pop, max(min_pop, pop_at_agi_thresholds[i])),\n",
      "                        min(max_pop, max(min_pop, pop_at_agi_thresholds[i+1])))[0]\n",
      "        agis.append(agi / total_pop * nbins)\n",
      "    \n",
      "    # Adjust for inflation by converting to 2011 dollars\n",
      "    agis = [agi * dollars_2011[year] for agi in agis]\n",
      "    return agis"
     ],
     "language": "python",
     "metadata": {},
     "outputs": [],
     "prompt_number": 29
    },
    {
     "cell_type": "code",
     "collapsed": false,
     "input": [
      "compute_tax_year(1990)"
     ],
     "language": "python",
     "metadata": {},
     "outputs": [
      {
       "output_type": "stream",
       "stream": "stdout",
       "text": [
        "1990-in-1.2.xlsx already exists\n",
        "Returns of married persons filing jointly: AGI thresholds RCRange(A8-A22), # of returns RCRange(B8-B22), total amount RCRange(C8-C22)\n",
        "Returns of single persons: AGI thresholds RCRange(A8-A22), # of returns RCRange(F8-F22), total amount RCRange(G8-G22)\n",
        "Returns of married persons filing separately, heads of households, and surviving spouses: AGI thresholds RCRange(A8-A22), # of returns RCRange(D8-D22), total amount RCRange(E8-E22)\n"
       ]
      },
      {
       "metadata": {},
       "output_type": "pyout",
       "prompt_number": 30,
       "text": [
        "[0.0,\n",
        " 0.0,\n",
        " 0.0,\n",
        " 0.0,\n",
        " 0.0,\n",
        " 0.0,\n",
        " 0.0,\n",
        " 1984.8683174331527,\n",
        " 6696.2858122513089,\n",
        " 10780.42062878947,\n",
        " 14749.141787149236,\n",
        " 18796.965048940427,\n",
        " 22945.395524113021,\n",
        " 27313.255883476239,\n",
        " 32017.45375625318,\n",
        " 37222.189191903148,\n",
        " 43360.854673590424,\n",
        " 52543.667420334175,\n",
        " 65279.870297090194,\n",
        " 163470.66864746501]"
       ]
      }
     ],
     "prompt_number": 30
    },
    {
     "cell_type": "code",
     "collapsed": false,
     "input": [
      "agis = {}\n",
      "start_year = 1990\n",
      "end_year = 2011\n",
      "for year in range(start_year, end_year + 1):\n",
      "    agis[year] = compute_tax_year(year)\n",
      "agis"
     ],
     "language": "python",
     "metadata": {},
     "outputs": [
      {
       "output_type": "stream",
       "stream": "stdout",
       "text": [
        "1990-in-1.2.xlsx already exists\n",
        "Returns of married persons filing jointly: AGI thresholds RCRange(A8-A22), # of returns RCRange(B8-B22), total amount RCRange(C8-C22)\n",
        "Returns of single persons: AGI thresholds RCRange(A8-A22), # of returns RCRange(F8-F22), total amount RCRange(G8-G22)\n",
        "Returns of married persons filing separately, heads of households, and surviving spouses: AGI thresholds RCRange(A8-A22), # of returns RCRange(D8-D22), total amount RCRange(E8-E22)\n",
        "1991-in-1.2.xlsx already exists"
       ]
      },
      {
       "output_type": "stream",
       "stream": "stdout",
       "text": [
        "\n",
        "Returns of married persons filing jointly: AGI thresholds RCRange(A8-A22), # of returns RCRange(B8-B22), total amount RCRange(C8-C22)\n",
        "Returns of single persons: AGI thresholds RCRange(A8-A22), # of returns RCRange(F8-F22), total amount RCRange(G8-G22)\n",
        "Returns of married persons filing separately, heads of households, and surviving spouses: AGI thresholds RCRange(A8-A22), # of returns RCRange(D8-D22), total amount RCRange(E8-E22)\n",
        "1992-in-1.2.xlsx already exists"
       ]
      },
      {
       "output_type": "stream",
       "stream": "stdout",
       "text": [
        "\n",
        "Returns of married persons filing jointly: AGI thresholds RCRange(A8-A22), # of returns RCRange(B8-B22), total amount RCRange(C8-C22)\n",
        "Returns of single persons: AGI thresholds RCRange(A8-A22), # of returns RCRange(F8-F22), total amount RCRange(G8-G22)\n",
        "Returns of married persons filing separately, heads of households, and surviving spouses: AGI thresholds RCRange(A8-A22), # of returns RCRange(D8-D22), total amount RCRange(E8-E22)\n",
        "1993-in-1.2.xlsx already exists"
       ]
      },
      {
       "output_type": "stream",
       "stream": "stdout",
       "text": [
        "\n",
        "Returns of married persons filing jointly: AGI thresholds RCRange(A8-A22), # of returns RCRange(B8-B22), total amount RCRange(C8-C22)\n",
        "Returns of single persons: AGI thresholds RCRange(A8-A22), # of returns RCRange(F8-F22), total amount RCRange(G8-G22)\n",
        "Returns of married persons filing separately, heads of households, and surviving spouses: AGI thresholds RCRange(A8-A22), # of returns RCRange(D8-D22), total amount RCRange(E8-E22)\n",
        "1994-in-1.2.xlsx already exists"
       ]
      },
      {
       "output_type": "stream",
       "stream": "stdout",
       "text": [
        "\n",
        "Returns of married persons filing jointly: AGI thresholds RCRange(A8-A22), # of returns RCRange(B8-B22), total amount RCRange(C8-C22)\n",
        "Returns of single persons: AGI thresholds RCRange(A8-A22), # of returns RCRange(F8-F22), total amount RCRange(G8-G22)\n",
        "Returns of married persons filing separately, heads of households, and surviving spouses: AGI thresholds RCRange(A8-A22), # of returns RCRange(D8-D22), total amount RCRange(E8-E22)\n",
        "1995-in-1.2.xlsx already exists"
       ]
      },
      {
       "output_type": "stream",
       "stream": "stdout",
       "text": [
        "\n",
        "Returns of married persons filing jointly: AGI thresholds RCRange(A7-A21), # of returns RCRange(B7-B21), total amount RCRange(C7-C21)\n",
        "Returns of single persons: AGI thresholds RCRange(A7-A21), # of returns RCRange(F7-F21), total amount RCRange(G7-G21)\n",
        "Returns of married persons filing separately, heads of households, and surviving spouses: AGI thresholds RCRange(A7-A21), # of returns RCRange(D7-D21), total amount RCRange(E7-E21)\n",
        "96in12ar.xls already exists"
       ]
      },
      {
       "output_type": "stream",
       "stream": "stdout",
       "text": [
        "\n",
        "Returns of married persons filing jointly: AGI thresholds RCRange(A54-A68), # of returns RCRange(B54-B68), total amount RCRange(C54-C68)"
       ]
      },
      {
       "output_type": "stream",
       "stream": "stdout",
       "text": [
        "\n",
        "Returns of single persons: AGI thresholds RCRange(A140-A154), # of returns RCRange(B140-B154), total amount RCRange(C140-C154)\n",
        "Returns of married persons filing separately, heads of households, and surviving spouses: AGI thresholds RCRange(A97-A111), # of returns RCRange(B97-B111), total amount RCRange(C97-C111)\n",
        "97in12.xls already exists"
       ]
      },
      {
       "output_type": "stream",
       "stream": "stdout",
       "text": [
        "\n",
        "Returns of married persons filing jointly: AGI thresholds RCRange(A56-A70), # of returns RCRange(B56-B70), total amount RCRange(C56-C70)\n",
        "Returns of single persons: AGI thresholds RCRange(A144-A158), # of returns RCRange(B144-B158), total amount RCRange(C144-C158)"
       ]
      },
      {
       "output_type": "stream",
       "stream": "stdout",
       "text": [
        "\n",
        "Returns of married persons filing separately, heads of households, and surviving spouses: AGI thresholds RCRange(A100-A114), # of returns RCRange(B100-B114), total amount RCRange(C100-C114)\n",
        "98in12ar.xls already exists"
       ]
      },
      {
       "output_type": "stream",
       "stream": "stdout",
       "text": [
        "\n",
        "Returns of married persons filing jointly: AGI thresholds RCRange(A54-A68), # of returns RCRange(B54-B68), total amount RCRange(C54-C68)\n",
        "Returns of single persons: AGI thresholds RCRange(A140-A154), # of returns RCRange(B140-B154), total amount RCRange(C140-C154)"
       ]
      },
      {
       "output_type": "stream",
       "stream": "stdout",
       "text": [
        "\n",
        "Returns of married persons filing separately, heads of households, and surviving spouses: AGI thresholds RCRange(A97-A111), # of returns RCRange(B97-B111), total amount RCRange(C97-C111)\n",
        "99in12ar.xls already exists"
       ]
      },
      {
       "output_type": "stream",
       "stream": "stdout",
       "text": [
        "\n",
        "Returns of married persons filing jointly: AGI thresholds RCRange(A54-A68), # of returns RCRange(B54-B68), total amount RCRange(C54-C68)\n",
        "Returns of single persons: AGI thresholds RCRange(A140-A154), # of returns RCRange(B140-B154), total amount RCRange(C140-C154)"
       ]
      },
      {
       "output_type": "stream",
       "stream": "stdout",
       "text": [
        "\n",
        "Returns of married persons filing separately, heads of households, and surviving spouses: AGI thresholds RCRange(A97-A111), # of returns RCRange(B97-B111), total amount RCRange(C97-C111)\n",
        "00in12ar.xls already exists"
       ]
      },
      {
       "output_type": "stream",
       "stream": "stdout",
       "text": [
        "\n",
        "Returns of married persons filing jointly: AGI thresholds RCRange(A60-A78), # of returns RCRange(B60-B78), total amount RCRange(C60-C78)"
       ]
      },
      {
       "output_type": "stream",
       "stream": "stdout",
       "text": [
        "\n",
        "Returns of single persons: AGI thresholds RCRange(A156-A174), # of returns RCRange(B156-B174), total amount RCRange(C156-C174)\n",
        "Returns of married persons filing separately, heads of households, and surviving spouses: AGI thresholds RCRange(A108-A126), # of returns RCRange(B108-B126), total amount RCRange(C108-C126)\n",
        "01in12ms.xls already exists"
       ]
      },
      {
       "output_type": "stream",
       "stream": "stdout",
       "text": [
        "\n",
        "Returns of married persons filing jointly: AGI thresholds RCRange(A58-A76), # of returns RCRange(B58-B76), total amount RCRange(C58-C76)"
       ]
      },
      {
       "output_type": "stream",
       "stream": "stdout",
       "text": [
        "\n",
        "Returns of single persons: AGI thresholds RCRange(A152-A170), # of returns RCRange(B152-B170), total amount RCRange(C152-C170)\n",
        "Returns of married persons filing separately, heads of households, and surviving spouses: AGI thresholds RCRange(A105-A123), # of returns RCRange(B105-B123), total amount RCRange(C105-C123)\n",
        "02in12ms.xls already exists"
       ]
      },
      {
       "output_type": "stream",
       "stream": "stdout",
       "text": [
        "\n",
        "Returns of married persons filing jointly: AGI thresholds RCRange(A58-A76), # of returns RCRange(B58-B76), total amount RCRange(C58-C76)"
       ]
      },
      {
       "output_type": "stream",
       "stream": "stdout",
       "text": [
        "\n",
        "Returns of single persons: AGI thresholds RCRange(A152-A170), # of returns RCRange(B152-B170), total amount RCRange(C152-C170)\n",
        "Returns of married persons filing separately, heads of households, and surviving spouses: AGI thresholds RCRange(A105-A123), # of returns RCRange(B105-B123), total amount RCRange(C105-C123)\n",
        "03in12ms.xls already exists"
       ]
      },
      {
       "output_type": "stream",
       "stream": "stdout",
       "text": [
        "\n",
        "Returns of married persons filing jointly: AGI thresholds RCRange(A58-A76), # of returns RCRange(B58-B76), total amount RCRange(C58-C76)"
       ]
      },
      {
       "output_type": "stream",
       "stream": "stdout",
       "text": [
        "\n",
        "Returns of single persons: AGI thresholds RCRange(A246-A264), # of returns RCRange(B246-B264), total amount RCRange(C246-C264)\n",
        "Returns of married persons filing separately: AGI thresholds RCRange(A105-A123), # of returns RCRange(B105-B123), total amount RCRange(C105-C123)"
       ]
      },
      {
       "output_type": "stream",
       "stream": "stdout",
       "text": [
        "\n",
        "Returns of head(|s) of households: AGI thresholds RCRange(A152-A170), # of returns RCRange(B152-B170), total amount RCRange(C152-C170)\n",
        "Returns of surviving spouses: AGI thresholds RCRange(A199-A217), # of returns RCRange(B199-B217), total amount RCRange(C199-C217)"
       ]
      },
      {
       "output_type": "stream",
       "stream": "stdout",
       "text": [
        "\n",
        "04in12ms.xls already exists"
       ]
      },
      {
       "output_type": "stream",
       "stream": "stdout",
       "text": [
        "\n",
        "Returns of married persons filing jointly: AGI thresholds RCRange(A58-A76), # of returns RCRange(B58-B76), total amount RCRange(C58-C76)"
       ]
      },
      {
       "output_type": "stream",
       "stream": "stdout",
       "text": [
        "\n",
        "Returns of single persons: AGI thresholds RCRange(A246-A264), # of returns RCRange(B246-B264), total amount RCRange(C246-C264)\n",
        "Returns of married persons filing separately: AGI thresholds RCRange(A105-A123), # of returns RCRange(B105-B123), total amount RCRange(C105-C123)"
       ]
      },
      {
       "output_type": "stream",
       "stream": "stdout",
       "text": [
        "\n",
        "Returns of head(|s) of households: AGI thresholds RCRange(A152-A170), # of returns RCRange(B152-B170), total amount RCRange(C152-C170)\n",
        "Returns of surviving spouses: AGI thresholds RCRange(A199-A217), # of returns RCRange(B199-B217), total amount RCRange(C199-C217)"
       ]
      },
      {
       "output_type": "stream",
       "stream": "stdout",
       "text": [
        "\n",
        "05in12ms.xls already exists"
       ]
      },
      {
       "output_type": "stream",
       "stream": "stdout",
       "text": [
        "\n",
        "Returns of married persons filing jointly: AGI thresholds RCRange(A10-A28), # of returns RCRange(O10-O28), total amount RCRange(P10-P28)"
       ]
      },
      {
       "output_type": "stream",
       "stream": "stdout",
       "text": [
        "\n",
        "Returns of single persons: AGI thresholds RCRange(A10-A28), # of returns RCRange(BO10-BO28), total amount RCRange(BP10-BP28)\n",
        "Returns of married persons filing separately: AGI thresholds RCRange(A10-A28), # of returns RCRange(AB10-AB28), total amount RCRange(AC10-AC28)"
       ]
      },
      {
       "output_type": "stream",
       "stream": "stdout",
       "text": [
        "\n",
        "Returns of head(|s) of households: AGI thresholds RCRange(A10-A28), # of returns RCRange(AO10-AO28), total amount RCRange(AP10-AP28)\n",
        "Returns of surviving spouses: AGI thresholds RCRange(A10-A28), # of returns RCRange(BB10-BB28), total amount RCRange(BC10-BC28)"
       ]
      },
      {
       "output_type": "stream",
       "stream": "stdout",
       "text": [
        "\n",
        "06in12ms.xls already exists"
       ]
      },
      {
       "output_type": "stream",
       "stream": "stdout",
       "text": [
        "\n",
        "Returns of married persons filing jointly: AGI thresholds RCRange(A10-A28), # of returns RCRange(O10-O28), total amount RCRange(P10-P28)"
       ]
      },
      {
       "output_type": "stream",
       "stream": "stdout",
       "text": [
        "\n",
        "Returns of single persons: AGI thresholds RCRange(A10-A28), # of returns RCRange(BO10-BO28), total amount RCRange(BP10-BP28)\n",
        "Returns of married persons filing separately: AGI thresholds RCRange(A10-A28), # of returns RCRange(AB10-AB28), total amount RCRange(AC10-AC28)"
       ]
      },
      {
       "output_type": "stream",
       "stream": "stdout",
       "text": [
        "\n",
        "Returns of head(|s) of households: AGI thresholds RCRange(A10-A28), # of returns RCRange(AO10-AO28), total amount RCRange(AP10-AP28)\n",
        "Returns of surviving spouses: AGI thresholds RCRange(A10-A28), # of returns RCRange(BB10-BB28), total amount RCRange(BC10-BC28)"
       ]
      },
      {
       "output_type": "stream",
       "stream": "stdout",
       "text": [
        "\n",
        "07in12ms.xls already exists"
       ]
      },
      {
       "output_type": "stream",
       "stream": "stdout",
       "text": [
        "\n",
        "Returns of married persons filing jointly: AGI thresholds RCRange(A10-A28), # of returns RCRange(O10-O28), total amount RCRange(P10-P28)"
       ]
      },
      {
       "output_type": "stream",
       "stream": "stdout",
       "text": [
        "\n",
        "Returns of single persons: AGI thresholds RCRange(A10-A28), # of returns RCRange(BO10-BO28), total amount RCRange(BP10-BP28)"
       ]
      },
      {
       "output_type": "stream",
       "stream": "stdout",
       "text": [
        "\n",
        "Returns of married persons filing separately: AGI thresholds RCRange(A10-A28), # of returns RCRange(AB10-AB28), total amount RCRange(AC10-AC28)"
       ]
      },
      {
       "output_type": "stream",
       "stream": "stdout",
       "text": [
        "\n",
        "Returns of head(|s) of households: AGI thresholds RCRange(A10-A28), # of returns RCRange(AO10-AO28), total amount RCRange(AP10-AP28)\n",
        "Returns of surviving spouses: AGI thresholds RCRange(A10-A28), # of returns RCRange(BB10-BB28), total amount RCRange(BC10-BC28)"
       ]
      },
      {
       "output_type": "stream",
       "stream": "stdout",
       "text": [
        "\n",
        "08in12ms.xls already exists"
       ]
      },
      {
       "output_type": "stream",
       "stream": "stdout",
       "text": [
        "\n",
        "Returns of married persons filing jointly: AGI thresholds RCRange(A10-A28), # of returns RCRange(O10-O28), total amount RCRange(P10-P28)"
       ]
      },
      {
       "output_type": "stream",
       "stream": "stdout",
       "text": [
        "\n",
        "Returns of single persons: AGI thresholds RCRange(A10-A28), # of returns RCRange(BO10-BO28), total amount RCRange(BP10-BP28)\n",
        "Returns of married persons filing separately: AGI thresholds RCRange(A10-A28), # of returns RCRange(AB10-AB28), total amount RCRange(AC10-AC28)"
       ]
      },
      {
       "output_type": "stream",
       "stream": "stdout",
       "text": [
        "\n",
        "Returns of head(|s) of households: AGI thresholds RCRange(A10-A28), # of returns RCRange(AO10-AO28), total amount RCRange(AP10-AP28)\n",
        "Returns of surviving spouses: AGI thresholds RCRange(A10-A28), # of returns RCRange(BB10-BB28), total amount RCRange(BC10-BC28)"
       ]
      },
      {
       "output_type": "stream",
       "stream": "stdout",
       "text": [
        "\n",
        "09in12ms.xls already exists"
       ]
      },
      {
       "output_type": "stream",
       "stream": "stdout",
       "text": [
        "\n",
        "Returns of married persons filing jointly: AGI thresholds RCRange(A10-A28), # of returns RCRange(O10-O28), total amount RCRange(P10-P28)"
       ]
      },
      {
       "output_type": "stream",
       "stream": "stdout",
       "text": [
        "\n",
        "Returns of single persons: AGI thresholds RCRange(A10-A28), # of returns RCRange(BO10-BO28), total amount RCRange(BP10-BP28)\n",
        "Returns of married persons filing separately: AGI thresholds RCRange(A10-A28), # of returns RCRange(AB10-AB28), total amount RCRange(AC10-AC28)"
       ]
      },
      {
       "output_type": "stream",
       "stream": "stdout",
       "text": [
        "\n",
        "Returns of head(|s) of households: AGI thresholds RCRange(A10-A28), # of returns RCRange(AO10-AO28), total amount RCRange(AP10-AP28)\n",
        "Returns of surviving spouses: AGI thresholds RCRange(A10-A28), # of returns RCRange(BB10-BB28), total amount RCRange(BC10-BC28)"
       ]
      },
      {
       "output_type": "stream",
       "stream": "stdout",
       "text": [
        "\n",
        "10in12ms.xls already exists"
       ]
      },
      {
       "output_type": "stream",
       "stream": "stdout",
       "text": [
        "\n",
        "Returns of married persons filing jointly: AGI thresholds RCRange(A10-A28), # of returns RCRange(O10-O28), total amount RCRange(P10-P28)"
       ]
      },
      {
       "output_type": "stream",
       "stream": "stdout",
       "text": [
        "\n",
        "Returns of single persons: AGI thresholds RCRange(A10-A28), # of returns RCRange(BO10-BO28), total amount RCRange(BP10-BP28)\n",
        "Returns of married persons filing separately: AGI thresholds RCRange(A10-A28), # of returns RCRange(AB10-AB28), total amount RCRange(AC10-AC28)"
       ]
      },
      {
       "output_type": "stream",
       "stream": "stdout",
       "text": [
        "\n",
        "Returns of head(|s) of households: AGI thresholds RCRange(A10-A28), # of returns RCRange(AO10-AO28), total amount RCRange(AP10-AP28)\n",
        "Returns of surviving spouses: AGI thresholds RCRange(A10-A28), # of returns RCRange(BB10-BB28), total amount RCRange(BC10-BC28)"
       ]
      },
      {
       "output_type": "stream",
       "stream": "stdout",
       "text": [
        "\n",
        "11in12ms.xls already exists"
       ]
      },
      {
       "output_type": "stream",
       "stream": "stdout",
       "text": [
        "\n",
        "Returns of married persons filing jointly: AGI thresholds RCRange(A10-A28), # of returns RCRange(O10-O28), total amount RCRange(P10-P28)"
       ]
      },
      {
       "output_type": "stream",
       "stream": "stdout",
       "text": [
        "\n",
        "Returns of single persons: AGI thresholds RCRange(A10-A28), # of returns RCRange(BO10-BO28), total amount RCRange(BP10-BP28)\n",
        "Returns of married persons filing separately: AGI thresholds RCRange(A10-A28), # of returns RCRange(AB10-AB28), total amount RCRange(AC10-AC28)"
       ]
      },
      {
       "output_type": "stream",
       "stream": "stdout",
       "text": [
        "\n",
        "Returns of head(|s) of households: AGI thresholds RCRange(A10-A28), # of returns RCRange(AO10-AO28), total amount RCRange(AP10-AP28)\n",
        "Returns of surviving spouses: AGI thresholds RCRange(A10-A28), # of returns RCRange(BB10-BB28), total amount RCRange(BC10-BC28)"
       ]
      },
      {
       "output_type": "stream",
       "stream": "stdout",
       "text": [
        "\n"
       ]
      },
      {
       "metadata": {},
       "output_type": "pyout",
       "prompt_number": 31,
       "text": [
        "{1990: [0.0,\n",
        "  0.0,\n",
        "  0.0,\n",
        "  0.0,\n",
        "  0.0,\n",
        "  0.0,\n",
        "  0.0,\n",
        "  1984.8683174331527,\n",
        "  6696.2858122513089,\n",
        "  10780.42062878947,\n",
        "  14749.141787149236,\n",
        "  18796.965048940427,\n",
        "  22945.395524113021,\n",
        "  27313.255883476239,\n",
        "  32017.45375625318,\n",
        "  37222.189191903148,\n",
        "  43360.854673590424,\n",
        "  52543.667420334175,\n",
        "  65279.870297090194,\n",
        "  163470.66864746501],\n",
        " 1991: [0.0,\n",
        "  0.0,\n",
        "  0.0,\n",
        "  0.0,\n",
        "  0.0,\n",
        "  0.0,\n",
        "  0.0,\n",
        "  1676.5421538942628,\n",
        "  6338.6964185143488,\n",
        "  10328.560489654981,\n",
        "  14133.534807303544,\n",
        "  18036.908693879966,\n",
        "  22117.886036129399,\n",
        "  26485.195215362448,\n",
        "  31202.544264717078,\n",
        "  36415.113406122233,\n",
        "  42579.061464825973,\n",
        "  51446.390301669118,\n",
        "  62768.62407317516,\n",
        "  153308.05008548324],\n",
        " 1992: [0.0,\n",
        "  0.0,\n",
        "  0.0,\n",
        "  0.0,\n",
        "  0.0,\n",
        "  0.0,\n",
        "  0.0,\n",
        "  648.0525739654197,\n",
        "  5179.9793376807856,\n",
        "  9435.8760753861079,\n",
        "  13283.103640930578,\n",
        "  17216.367698713104,\n",
        "  21538.863695311586,\n",
        "  26101.811801323202,\n",
        "  30866.908758376961,\n",
        "  36121.359642041352,\n",
        "  42482.866823164586,\n",
        "  51287.727208439501,\n",
        "  62919.629745940663,\n",
        "  160734.0715673393],\n",
        " 1993: [0.0,\n",
        "  0.0,\n",
        "  0.0,\n",
        "  0.0,\n",
        "  0.0,\n",
        "  0.0,\n",
        "  0.0,\n",
        "  489.94073717051913,\n",
        "  4859.2520748008437,\n",
        "  9151.2527497671126,\n",
        "  12991.228712869914,\n",
        "  16882.242614021408,\n",
        "  21146.151551964402,\n",
        "  25703.750529232715,\n",
        "  30529.792063409699,\n",
        "  35751.190078022264,\n",
        "  42190.128541115315,\n",
        "  50741.943379255223,\n",
        "  62437.045363592602,\n",
        "  157950.71555869488],\n",
        " 1994: [0.0,\n",
        "  0.0,\n",
        "  0.0,\n",
        "  0.0,\n",
        "  0.0,\n",
        "  0.0,\n",
        "  0.0,\n",
        "  399.93029128986689,\n",
        "  4740.5977077689486,\n",
        "  9139.4047645479841,\n",
        "  13031.02871712617,\n",
        "  17006.213549163127,\n",
        "  21254.751241983402,\n",
        "  25883.180141065477,\n",
        "  30775.885344861381,\n",
        "  36110.026668017046,\n",
        "  42786.634751490208,\n",
        "  51017.788349663737,\n",
        "  63113.895515341334,\n",
        "  161079.80537960053],\n",
        " 1995: [0.0,\n",
        "  0.0,\n",
        "  0.0,\n",
        "  0.0,\n",
        "  0.0,\n",
        "  0.0,\n",
        "  0.0,\n",
        "  576.52932585024155,\n",
        "  5023.8775384157061,\n",
        "  9353.5169580737802,\n",
        "  13319.119337127326,\n",
        "  17311.897875988481,\n",
        "  21542.592374652126,\n",
        "  26227.134098633902,\n",
        "  31172.614805810557,\n",
        "  36575.29006000769,\n",
        "  43553.801248898213,\n",
        "  51628.904968004172,\n",
        "  64550.063965186011,\n",
        "  171257.11362461309],\n",
        " 1996: [0.0,\n",
        "  0.0,\n",
        "  0.0,\n",
        "  0.0,\n",
        "  0.0,\n",
        "  0.0,\n",
        "  0.0,\n",
        "  568.94866955189377,\n",
        "  4993.3640683775757,\n",
        "  9374.7616664234265,\n",
        "  13427.964232494985,\n",
        "  17549.729595683777,\n",
        "  21876.3284167446,\n",
        "  26500.280209935176,\n",
        "  31491.41716398521,\n",
        "  37138.050194063355,\n",
        "  44124.007304472201,\n",
        "  52125.333889945272,\n",
        "  66040.109356602392,\n",
        "  185741.33121756604],\n",
        " 1997: [0.0,\n",
        "  0.0,\n",
        "  0.0,\n",
        "  0.0,\n",
        "  0.0,\n",
        "  0.0,\n",
        "  0.0,\n",
        "  690.01623641840865,\n",
        "  5450.2923583972934,\n",
        "  9905.0533655308463,\n",
        "  13963.820849767815,\n",
        "  18214.626111307713,\n",
        "  22755.818002025018,\n",
        "  27486.267805763058,\n",
        "  32567.928230913476,\n",
        "  38445.702666987774,\n",
        "  45387.444697667634,\n",
        "  53598.724266433848,\n",
        "  69259.281849576888,\n",
        "  203541.56276252319],\n",
        " 1998: [0.0,\n",
        "  0.0,\n",
        "  0.0,\n",
        "  0.0,\n",
        "  0.0,\n",
        "  0.0,\n",
        "  0.0,\n",
        "  885.51069557674873,\n",
        "  5940.3484125184186,\n",
        "  10558.897790980491,\n",
        "  14782.050159730334,\n",
        "  19135.792016551706,\n",
        "  23759.080858075889,\n",
        "  28574.312848184869,\n",
        "  33778.180869554679,\n",
        "  39937.303642679202,\n",
        "  46954.453180182114,\n",
        "  55861.90876173455,\n",
        "  73617.878076344656,\n",
        "  220896.47230716838],\n",
        " 1999: [0.0,\n",
        "  0.0,\n",
        "  0.0,\n",
        "  0.0,\n",
        "  0.0,\n",
        "  0.0,\n",
        "  0.0,\n",
        "  985.17533236744896,\n",
        "  6040.9669234258399,\n",
        "  10759.706100213132,\n",
        "  15066.525009596351,\n",
        "  19646.666194775873,\n",
        "  24402.888172712868,\n",
        "  29389.462844840833,\n",
        "  34802.214128908534,\n",
        "  40966.022243164909,\n",
        "  47824.955016982865,\n",
        "  57436.990338167117,\n",
        "  77659.308584505823,\n",
        "  236631.84362908802],\n",
        " 2000: [0.0,\n",
        "  0.0,\n",
        "  0.0,\n",
        "  0.0,\n",
        "  0.0,\n",
        "  0.0,\n",
        "  0.0,\n",
        "  1214.4652920443066,\n",
        "  6425.3447632174775,\n",
        "  11075.302025508359,\n",
        "  15449.763294708204,\n",
        "  20075.588959594144,\n",
        "  24877.328927198894,\n",
        "  29876.82366501748,\n",
        "  35382.934365228793,\n",
        "  41683.622043005584,\n",
        "  48668.946793245217,\n",
        "  58671.060226697969,\n",
        "  80948.293095981629,\n",
        "  257674.78531329386],\n",
        " 2001: [0.0,\n",
        "  0.0,\n",
        "  0.0,\n",
        "  0.0,\n",
        "  0.0,\n",
        "  0.0,\n",
        "  0.0,\n",
        "  1060.2491809002038,\n",
        "  6141.2855281631455,\n",
        "  10786.593215204088,\n",
        "  15164.985086392649,\n",
        "  19763.192447477697,\n",
        "  24548.216654059052,\n",
        "  29519.498670269153,\n",
        "  34969.522090672232,\n",
        "  41080.385008781261,\n",
        "  47867.191041634534,\n",
        "  57581.104884063097,\n",
        "  79296.762923998976,\n",
        "  223521.7699838783],\n",
        " 2002: [0.0,\n",
        "  0.0,\n",
        "  0.0,\n",
        "  0.0,\n",
        "  0.0,\n",
        "  0.0,\n",
        "  0.0,\n",
        "  636.88719725976102,\n",
        "  5544.2572543342812,\n",
        "  10205.459110437894,\n",
        "  14509.111843478389,\n",
        "  18984.037081967239,\n",
        "  23729.450485086654,\n",
        "  28716.730852635508,\n",
        "  34179.471482615569,\n",
        "  40316.864559065158,\n",
        "  47091.982086299169,\n",
        "  56454.041375490109,\n",
        "  76918.820009185845,\n",
        "  206643.00207176371],\n",
        " 2003: [0.0,\n",
        "  0.0,\n",
        "  0.0,\n",
        "  0.0,\n",
        "  0.0,\n",
        "  0.0,\n",
        "  0.0,\n",
        "  432.40118932145725,\n",
        "  5083.6888429255114,\n",
        "  9749.2602819675612,\n",
        "  14040.607427297346,\n",
        "  18489.6640477699,\n",
        "  23199.949085938104,\n",
        "  28194.546889595713,\n",
        "  33721.262751926435,\n",
        "  39941.061092869619,\n",
        "  46837.658892442676,\n",
        "  56139.053071963564,\n",
        "  77324.571730098294,\n",
        "  218296.12498292571],\n",
        " 2004: [0.0,\n",
        "  0.0,\n",
        "  0.0,\n",
        "  0.0,\n",
        "  0.0,\n",
        "  0.0,\n",
        "  0.0,\n",
        "  520.17691972728221,\n",
        "  5279.3580461486381,\n",
        "  9883.8586532809004,\n",
        "  14218.53981391756,\n",
        "  18840.880021408033,\n",
        "  23713.145989849963,\n",
        "  28905.487427966182,\n",
        "  34514.21269804555,\n",
        "  40661.938894665655,\n",
        "  47704.411144194215,\n",
        "  57104.699747424776,\n",
        "  80126.194325892939,\n",
        "  232856.29246090859],\n",
        " 2005: [0.0,\n",
        "  0.0,\n",
        "  0.0,\n",
        "  0.0,\n",
        "  0.0,\n",
        "  0.0,\n",
        "  0.0,\n",
        "  721.07927226485094,\n",
        "  5614.8207533301738,\n",
        "  10223.194660504476,\n",
        "  14572.38717503919,\n",
        "  19126.031788413849,\n",
        "  23945.967653746808,\n",
        "  29077.785092063838,\n",
        "  34614.090081823342,\n",
        "  40717.664340008138,\n",
        "  48060.993487473825,\n",
        "  58505.481319929757,\n",
        "  82607.909180620307,\n",
        "  256484.24312387177],\n",
        " 2006: [0.0,\n",
        "  0.0,\n",
        "  0.0,\n",
        "  0.0,\n",
        "  0.0,\n",
        "  0.0,\n",
        "  0.0,\n",
        "  1099.5675735507168,\n",
        "  6104.9722584509791,\n",
        "  10661.762465008445,\n",
        "  15025.053583225012,\n",
        "  19631.483225987187,\n",
        "  24524.099573739615,\n",
        "  29730.672353750597,\n",
        "  35339.228735204881,\n",
        "  41475.461659361812,\n",
        "  49011.016432770251,\n",
        "  60819.163513447114,\n",
        "  84799.407941466008,\n",
        "  272196.73789151484],\n",
        " 2007: [0.0,\n",
        "  0.0,\n",
        "  0.0,\n",
        "  0.0,\n",
        "  0.0,\n",
        "  0.0,\n",
        "  0.0,\n",
        "  2311.7005893009791,\n",
        "  7318.8306176874539,\n",
        "  11658.650967368016,\n",
        "  16014.831149752343,\n",
        "  20617.878760115545,\n",
        "  25558.645865242386,\n",
        "  30722.294449343492,\n",
        "  36324.172142214491,\n",
        "  42440.755146852505,\n",
        "  49892.571036159359,\n",
        "  63352.657212498445,\n",
        "  85844.889063522161,\n",
        "  285010.44672369765],\n",
        " 2008: [0.0,\n",
        "  0.0,\n",
        "  0.0,\n",
        "  0.0,\n",
        "  0.0,\n",
        "  0.0,\n",
        "  0.0,\n",
        "  1269.4509547002922,\n",
        "  6101.0784984391767,\n",
        "  10416.861553026509,\n",
        "  14683.84819966085,\n",
        "  19186.770352797441,\n",
        "  24017.581287908713,\n",
        "  29163.262987606147,\n",
        "  34751.576920205604,\n",
        "  40842.824272007419,\n",
        "  48182.133593764513,\n",
        "  61421.581999767048,\n",
        "  82695.036072537361,\n",
        "  246858.05223242714],\n",
        " 2009: [0.0,\n",
        "  0.0,\n",
        "  0.0,\n",
        "  0.0,\n",
        "  0.0,\n",
        "  0.0,\n",
        "  0.0,\n",
        "  562.47965316451064,\n",
        "  5232.7202733312033,\n",
        "  9619.0665368289592,\n",
        "  13711.434132693854,\n",
        "  17994.327165297607,\n",
        "  22658.443995487196,\n",
        "  27851.518521477661,\n",
        "  33536.173391528595,\n",
        "  39722.601201626596,\n",
        "  47152.678238283719,\n",
        "  59371.957183467806,\n",
        "  80770.829800248743,\n",
        "  215335.68118580096],\n",
        " 2010: [0.0,\n",
        "  0.0,\n",
        "  0.0,\n",
        "  0.0,\n",
        "  0.0,\n",
        "  0.0,\n",
        "  0.0,\n",
        "  773.24875423729725,\n",
        "  5686.3692419852523,\n",
        "  9954.5667699954665,\n",
        "  13967.013709017478,\n",
        "  18202.621920613721,\n",
        "  22851.203058072981,\n",
        "  27996.387612611587,\n",
        "  33689.557022243716,\n",
        "  39898.327012347865,\n",
        "  47287.774244314001,\n",
        "  60278.291620394128,\n",
        "  81289.327512230113,\n",
        "  229593.89895574178],\n",
        " 2011: [0.0,\n",
        "  0.0,\n",
        "  0.0,\n",
        "  0.0,\n",
        "  0.0,\n",
        "  0.0,\n",
        "  0.0,\n",
        "  914.32523077213443,\n",
        "  5644.9833259663556,\n",
        "  9822.3126645109205,\n",
        "  13782.183157187485,\n",
        "  17993.280684041678,\n",
        "  22614.708935924042,\n",
        "  27709.076627198927,\n",
        "  33398.085550265023,\n",
        "  39645.553436000002,\n",
        "  47052.643106278476,\n",
        "  60942.447224428091,\n",
        "  80911.92512862169,\n",
        "  230035.59108620667]}"
       ]
      }
     ],
     "prompt_number": 31
    },
    {
     "cell_type": "code",
     "collapsed": false,
     "input": [
      "# Generate a plot with 20 sparklines showing how each 5% of the population fared from 2005 to 2011\n",
      "\n",
      "p = subplot()\n",
      "p.xaxis.set_major_formatter(FuncFormatter(lambda x, pos: '%d%%' % x))\n",
      "p.yaxis.set_major_formatter(FuncFormatter(lambda x, pos: '$%dK' % (x / 1e3) if x < 1e6 else '$%dM' % (x / 1e6)))\n",
      "x = []\n",
      "y = []\n",
      "\n",
      "years = sort(agis.keys())\n",
      "nyears = len(years)\n",
      "npercentiles = len(agis.values()[0])\n",
      "\n",
      "for percentile in range(0, npercentiles):\n",
      "    for yi in range(0, nyears):\n",
      "        x.append((100.0 / npercentiles) * (percentile + float(yi) / (nyears - 1)))\n",
      "        y.append(agis[years[yi]][percentile])\n",
      "    x.append(NaN)\n",
      "    y.append(NaN)\n",
      "p.fill_between(x, 0, y, color='pink')\n",
      "p.plot(x, y, color='red')\n",
      "p.set_xticks(range(0, 101, 5))\n",
      "p.set_yticks(range(0, 300000, 5000))\n",
      "p.grid()\n",
      "title((\"Estimated Adjusted Gross Income vs percentile of all persons, United States, %d-%d.\\n\" +\n",
      "       \"Adjusted to 2011 dollars to correct for inflation.\\n\" +\n",
      "       \"Each of the 20 sections shows how 5%% of the population fared from %d-%d\") % \n",
      "      (start_year, end_year, start_year, end_year))\n",
      "ylabel('Adjusted Gross Income, estimated')\n",
      "xlabel('Percentile of all persons, by Adjusted Gross Income')"
     ],
     "language": "python",
     "metadata": {},
     "outputs": [
      {
       "metadata": {},
       "output_type": "pyout",
       "prompt_number": 32,
       "text": [
        "<matplotlib.text.Text at 0x10b7c4990>"
       ]
      },
      {
       "metadata": {},
       "output_type": "display_data",
       "png": "[encoded data removed]",
       "text": [
        "<matplotlib.figure.Figure at 0x10c661710>"
       ]
      }
     ],
     "prompt_number": 32
    },
    {
     "cell_type": "code",
     "collapsed": false,
     "input": [
      "# TODO:\n",
      "# Try separate series for each percentile bin, and show time across X\n",
      "# Show also top 1% and 0.1%?\n",
      "# Animate"
     ],
     "language": "python",
     "metadata": {},
     "outputs": [],
     "prompt_number": 162
    }
   ],
   "metadata": {}
  }
 ]
}
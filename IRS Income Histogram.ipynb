{
 "metadata": {
  "name": "IRS Income Histogram"
 },
 "nbformat": 3,
 "nbformat_minor": 0,
 "worksheets": [
  {
   "cells": [
    {
     "cell_type": "code",
     "collapsed": false,
     "input": "from scipy import *\nfrom pylab import *\nfrom pandas import *\n%matplotlib inline\nmatplotlib.rcParams['figure.figsize'] = [10,6]",
     "language": "python",
     "metadata": {},
     "outputs": [],
     "prompt_number": 458
    },
    {
     "cell_type": "code",
     "collapsed": false,
     "input": "import os\ndir = os.path.expanduser(\"~/projects/underemployment/data\")\n# Create download data directory\ntry:\n    os.makedirs(dir)\nexcept OSError:\n    pass\nos.chdir(dir)\nprint \"Current directory is\", os.getcwd()",
     "language": "python",
     "metadata": {},
     "outputs": [
      {
       "output_type": "stream",
       "stream": "stdout",
       "text": "Current directory is /Users/rsargent/projects/underemployment/data\n"
      }
     ],
     "prompt_number": 459
    },
    {
     "cell_type": "code",
     "collapsed": false,
     "input": "import urllib2\ndef fetch_url(url, dest):\n    \"\"\"Fetch url to dest, if dest doesn't already exist\"\"\"\n    if os.path.exists(dest):\n        print \"%s already exists\" % dest\n    else:\n        input = urllib2.urlopen(url)\n        output = open(dest + \".tmp\", \"w\")\n        data = input.read()\n        output.write(data)\n        input.close()\n        output.close()\n        os.rename(dest + \".tmp\", dest)\n        print \"Fetched %d bytes from %s into %s\" % (len(data), url, dest)",
     "language": "python",
     "metadata": {},
     "outputs": [],
     "prompt_number": 460
    },
    {
     "cell_type": "code",
     "collapsed": false,
     "input": "",
     "language": "python",
     "metadata": {},
     "outputs": [],
     "prompt_number": 460
    },
    {
     "cell_type": "code",
     "collapsed": false,
     "input": "# Parse excel spreadsheets\nimport re\nimport xlrd\n\nclass RC:\n    \"\"\"Row, Col index\"\"\"\n    def __init__(self, r, c):\n        self.r = r\n        self.c = c\n        \n    def add(self, r, c):\n        return RC(self.r + r, self.c + c)\n    \n    def up(self, n = 1):\n        return self.add(-n, 0)\n        \n    def down(self, n = 1):\n        return self.add(n, 0)\n    \n    def left(self, n = 1):\n        return self.add(0, -n)\n    \n    def right(self, n = 1):\n        return self.add(0, n)\n    \n    def start_of_row(self):\n        return RC(0, self.c)\n    \n    def start_of_col(self):\n        return RC(self.r, 0)\n    \n    def cell_value(self, sheet):\n        return sheet.cell_value(self.r, self.c)\n    \n    def __repr__(self):\n        return \"%s(%d,%d)\" % (xlrd.cellname(self.r, self.c), self.r, self.c)\n    \nclass RCRange:\n    \"\"\"Rectangular range.  min and max are both inclusive\"\"\"\n    def __init__(self, min, max):\n        self.min = min\n        self.max = max\n\n    @staticmethod\n    def all():\n        return RCRange(RC(0,0), RC(sys.maxint, sys.maxint))\n    \n    def enumerate(self, sheet):\n        for r in range(self.min.r, min(self.max.r, sheet.nrows - 1) + 1):\n            for c in range(self.min.c, min(self.max.c, sheet.ncols - 1) + 1):\n                yield RC(r,c)\n                \n    def cell_values(self, sheet):\n        return [rc.cell_value(sheet) for rc in self.enumerate(sheet)]\n                \n    def __repr__(self):\n        return \"RCRange(%s-%s)\" % (repr(self.min), repr(self.max))\n\ndef find_first(sheet, pattern, range=RCRange.all()):\n    \"\"\"Search sheet range for cell text matching pattern.  Return first found, or raise error\"\"\"\n    locations = [rc for rc in range.enumerate(sheet)  if re.match(pattern, unicode(sheet.cell_value(rc.r,rc.c)))]\n    if len(locations) == 0:\n        raise \"In find_first, failed to find %s\" % (len(locations), pattern)\n    return locations[0]",
     "language": "python",
     "metadata": {},
     "outputs": [],
     "prompt_number": 461
    },
    {
     "cell_type": "code",
     "collapsed": false,
     "input": "def fetch_number_of_returns_vs_agi(sheet, bins, category):\n    counts_header = find_first(sheet, category).down()\n    if not re.match(\"Number\\sof\\sreturns\", counts_header.cell_value(sheet)):\n        raise \"Couldn't find expected column\"\n    counts = RCRange(RC(bins.min.r, counts_header.c), RC(bins.max.r, counts_header.c)).cell_values(sheet)\n    agis_header = counts_header.right()\n    if not re.match(\"Adjusted\\sgross\\sincome\", agis_header.cell_value(sheet)):\n        raise \"Couldn't find expected column\"\n    agis = map(lambda x: x*1000, RCRange(RC(bins.min.r, agis_header.c), RC(bins.max.r, agis_header.c)).cell_values(sheet))\n    thresholds = map(lambda x: float(([\"0\"] + re.findall('[\\d,]+', x))[-1].replace(',', '')), bins.cell_values(sheet))\n    thresholds[-1] = nan\n    return DataFrame({'agi_thresholds': thresholds, 'counts': counts, 'agi_totals': agis})",
     "language": "python",
     "metadata": {},
     "outputs": [],
     "prompt_number": 462
    },
    {
     "cell_type": "code",
     "collapsed": false,
     "input": "def estimate_top_agi_threshold(df):\n    # Model top bin as transitioning linearly to some max AGI.  Select max AGI such that\n    # total integrated AGI matches that given\n    df = df.copy()\n    agi_totals = df['agi_totals'].ix\n    agi_thresholds = df['agi_thresholds'].ix\n    counts = df['counts'].ix\n    size = len(df.index)\n    average_agi_top_bin = agi_totals[size - 1] / counts[size - 1]\n    if average_agi_top_bin <= agi_thresholds[size - 2]:\n        raise \"The average AGI in the top bin ought to be higher than the next to last threshold\"\n    agi_thresholds[size - 1] = average_agi_top_bin * 2 - agi_thresholds[size - 2]\n    return df",
     "language": "python",
     "metadata": {},
     "outputs": [],
     "prompt_number": 463
    },
    {
     "cell_type": "code",
     "collapsed": false,
     "input": "def estimate_separate_from_joint(df):\n    # Estimate how joint returns would look if filed separately, by assuming each\n    # spouse has identical incomes.  This isn't a very good estimate, and will\n    # underestimate income divergences from high and low percentiles.\n    df = df.copy()\n    df['agi_thresholds'] *= 0.5\n    df['counts'] *= 2\n    return df",
     "language": "python",
     "metadata": {},
     "outputs": [],
     "prompt_number": 464
    },
    {
     "cell_type": "code",
     "collapsed": false,
     "input": "from scipy import interpolate\ndef population_vs_agi(df):\n    # Expand range of interpolation to $0 to $1B by adding samples at beginning and end\n    # Actually, start at $-1e-10 because of a rounding problem in interp1d, apparently\n    return interpolate.interp1d(append([-1e-10], append(df['agi_thresholds'], [1e9])), \n                                cumsum(append([0], append(df['counts'], [0]))))",
     "language": "python",
     "metadata": {},
     "outputs": [],
     "prompt_number": 465
    },
    {
     "cell_type": "code",
     "collapsed": false,
     "input": "from scipy.integrate import quad\n\ndef compute_tax_year(year):\n    local = \"%02din12ms.xls\" % (year % 100)\n    url = \"http://www.irs.gov/file_source/pub/irs-soi/\" + local\n    fetch_url(url, local)\n    sheet = xlrd.open_workbook(local).sheet_by_index(0)\n    year = concat([fetch_number_of_returns_vs_agi(sheet, bins, 'Returns of married persons filing jointly'),\n                   fetch_number_of_returns_vs_agi(sheet, bins, 'Returns of married persons filing separately'),\n                   fetch_number_of_returns_vs_agi(sheet, bins, 'Returns of heads of households'),\n                   fetch_number_of_returns_vs_agi(sheet, bins, 'Returns of surviving spouses'),\n                   fetch_number_of_returns_vs_agi(sheet, bins, 'Returns of single persons')],\n                  keys = ['married_joint', 'married_separate', 'head_household', 'surviving_spouse', 'single'],\n                  axis = 1)\n    yearv2 = concat([estimate_top_agi_threshold(year[name]) for name in year.keys().levels[0]],\n                keys = year.keys().levels[0],\n                axis = 1)\n    yearv3 = concat([estimate_separate_from_joint(yearv2[name]) if name == 'married_joint' else yearv2[name] for name in yearv2.keys().levels[0]],\n                keys = yearv2.keys().levels[0],\n                axis = 1)\n    \n    pop_vs_agi_categories = [population_vs_agi(yearv3[name]) for name in yearv3.keys().levels[0]]\n    pop_vs_agi_all = lambda x: sum([fn(x) for fn in pop_vs_agi_categories])\n\n    agi_thresholds = []\n    for name in yearv3.keys().levels[0]:\n        agi_thresholds += list(yearv3[name]['agi_thresholds'])\n    agi_thresholds = sort(list(set(agi_thresholds)))\n\n    pop_at_agi_thresholds = append([0], map(pop_vs_agi_all, agi_thresholds))\n    agi_thresholds = append([0], agi_thresholds)\n\n    nbins = 20\n    agis = []\n    total_pop = pop_at_agi_thresholds[-1]\n    for i in range(0, nbins):\n        min_pop = total_pop * float(i) / nbins\n        max_pop = total_pop * float(i + 1) / nbins\n        agi = 0\n        for i in range(0, len(pop_at_agi_thresholds) - 1):\n            agi += quad(interpolate.interp1d(pop_at_agi_thresholds, agi_thresholds),\n                        min(max_pop, max(min_pop, pop_at_agi_thresholds[i])),\n                        min(max_pop, max(min_pop, pop_at_agi_thresholds[i+1])))[0]\n        agis.append(agi / total_pop * nbins)\n    return agis",
     "language": "python",
     "metadata": {},
     "outputs": [],
     "prompt_number": 466
    },
    {
     "cell_type": "code",
     "collapsed": false,
     "input": "agis = compute_tax_year(2011)\nagis",
     "language": "python",
     "metadata": {},
     "outputs": [
      {
       "output_type": "stream",
       "stream": "stdout",
       "text": "11in12ms.xls already exists\n"
      },
      {
       "metadata": {},
       "output_type": "pyout",
       "prompt_number": 467,
       "text": "[894.3543965796938,\n 4261.8120148280823,\n 7138.7273275681837,\n 9733.241935780572,\n 12250.343855245901,\n 14793.813365442777,\n 17515.789996626769,\n 20340.712103190803,\n 23420.694383433969,\n 26663.70879721814,\n 30097.415760596563,\n 33818.644934210315,\n 37627.800803963197,\n 42004.563589791636,\n 46886.5098509733,\n 54272.317066652024,\n 65814.287518156852,\n 78492.428746829362,\n 95344.116441604434,\n 304082.44162305933]"
      }
     ],
     "prompt_number": 467
    },
    {
     "cell_type": "code",
     "collapsed": false,
     "input": "p = subplot()\np.xaxis.set_major_formatter(FuncFormatter(lambda x, pos: '%d%%' % x))\np.yaxis.set_major_formatter(FuncFormatter(lambda x, pos: '$%dK' % (x / 1e3) if x < 1e6 else '$%dM' % (x / 1e6)))\np.bar(range(0, 100, 100 / len(agis)), agis, width = 100 / len(agis))\ntitle(\"2011\")\nylabel('Adjusted Gross Income')\nxlabel('Percentile of persons filing taxes')",
     "language": "python",
     "metadata": {},
     "outputs": [
      {
       "metadata": {},
       "output_type": "pyout",
       "prompt_number": 468,
       "text": "<matplotlib.text.Text at 0x12620d550>"
      },
      {
       "metadata": {},
       "output_type": "display_data",
       "png": "[encoded data removed]",
       "text": "<matplotlib.figure.Figure at 0x1262d9f10>"
      }
     ],
     "prompt_number": 468
    },
    {
     "cell_type": "code",
     "collapsed": false,
     "input": "# TODO:\n# Show earlier years",
     "language": "python",
     "metadata": {},
     "outputs": [],
     "prompt_number": 469
    },
    {
     "cell_type": "code",
     "collapsed": false,
     "input": "# TODO:\n# 2011: 40K-50K missing data for married separate and surviving spouse; should delete 40K threshold (NaN) and move to 50K",
     "language": "python",
     "metadata": {},
     "outputs": [],
     "prompt_number": 470
    }
   ],
   "metadata": {}
  }
 ]
}